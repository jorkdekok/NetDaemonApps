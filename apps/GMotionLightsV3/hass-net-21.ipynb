{
 "cells": [
  {
   "cell_type": "code",
   "execution_count": null,
   "metadata": {
    "dotnet_interactive": {
     "language": "csharp"
    },
    "vscode": {
     "languageId": "dotnet-interactive.csharp"
    }
   },
   "outputs": [],
   "source": [
    "#r \"nuget:System.Reactive\"\n",
    "#r \"nuget:System.Reactive.Linq\""
   ]
  },
  {
   "cell_type": "code",
   "execution_count": null,
   "metadata": {
    "dotnet_interactive": {
     "language": "csharp"
    },
    "vscode": {
     "languageId": "dotnet-interactive.csharp"
    }
   },
   "outputs": [
    {
     "data": {
      "text/plain": [
       "timer-reset18/08/2022 00:00:52 +02:00@17/08/2022 22:00:52 +00:00"
      ]
     },
     "metadata": {},
     "output_type": "display_data"
    },
    {
     "data": {
      "text/plain": [
       "sensor-on-2 18/08/2022 00:00:52 +02:00@17/08/2022 22:00:52 +00:00"
      ]
     },
     "metadata": {},
     "output_type": "display_data"
    },
    {
     "data": {
      "text/plain": [
       "<light>"
      ]
     },
     "metadata": {},
     "output_type": "display_data"
    },
    {
     "ename": "Error",
     "evalue": "System.OperationCanceledException: Command :SubmitCode: using System.Reactive;\r\nusing System.Reactive.Conc ... cancelled.",
     "output_type": "error",
     "traceback": [
      "System.OperationCanceledException: Command :SubmitCode: using System.Reactive;\r\n",
      "using System.Reactive.Conc ... cancelled."
     ]
    }
   ],
   "source": [
    "using System.Reactive;\n",
    "using System.Reactive.Concurrency;\n",
    "using System.Reactive.Disposables;\n",
    "using System.Reactive.Joins;\n",
    "using System.Reactive.Linq;\n",
    "using System.Reactive.PlatformServices;\n",
    "using System.Reactive.Subjects;\n",
    "using System.Reactive.Threading.Tasks;\n",
    "using System.Threading;\n",
    "using System.Threading.Tasks;\n",
    "\n",
    "// display output\n",
    "var output = display(\"idle.\");\n",
    "var outputSensor = display(\"<sensor>\");\n",
    "var outputLight = display(\"<light>\");\n",
    "\n",
    "// hass-net-2\n",
    "// timer\n",
    "var delay = TimeSpan.FromSeconds(10);\n",
    "bool lightsOn = false;\n",
    "\n",
    "var controlList = new List<string>();\n",
    "var controlChannel = controlList.ToObservable();\n",
    "\n",
    "// sensor\n",
    "var interval = TimeSpan.FromSeconds(6);\n",
    "var schedular = CurrentThreadScheduler.Instance;\n",
    "var compdisb = new CompositeDisposable();\n",
    "var sdisposable = new ScheduledDisposable(schedular, compdisb);\n",
    "\n",
    "using (sdisposable) {\n",
    "var observableSensor1 = Observable.Interval(interval, schedular);\n",
    "var observableSensor = observableSensor1.Publish();\n",
    "IDisposable sensorOn2 = observableSensor\n",
    "\t.Select(t => DateTimeOffset.Now)\n",
    "\t.TakeUntil(controlChannel.Where(m => m == \"STOP\"))\n",
    "\t.Timestamp()\n",
    "\t.Subscribe((onCount) => {\n",
    "\t\toutputSensor.Update(\"sensor-on-2 \" + onCount.ToString());\n",
    "\t\tcontrolList.Add(\"RESET\");\n",
    "\t\toutput.Update(\"timer-reset\" + onCount.ToString());\n",
    "\t\tcontrolList.Clear();\n",
    "\t});\n",
    "\tcompdisb.Add(sensorOn2);\n",
    "IDisposable sensorOn1 = observableSensor\n",
    "\t.Select(t => DateTimeOffset.Now)\n",
    "\t.Timestamp()\n",
    "\t.TakeUntil(controlChannel.Where(m => m == \"STOP\" || m == \"RESET\"))\n",
    "\t.Do((onCount) => {\n",
    "\t\toutputSensor.Update(\"sensor-on \" + onCount.ToString());\n",
    "\t})\n",
    "\t.Do((onCount) => {\n",
    "\t\toutput.Update(\"timer-on\" + onCount.ToString());\n",
    "\t})\n",
    "\t.TakeUntil(DateTimeOffset.Now.AddSeconds(10))\n",
    "\t.Subscribe((onCount) => {\n",
    "\t\toutput.Update(\"light on\" + onCount.ToString());\n",
    "\t\tlightsOn = true;\n",
    "\t});\n",
    "\tcompdisb.Add(sensorOn1);\n",
    "\t\n",
    "\tIDisposable oc = observableSensor.Connect();\n",
    "\tcompdisb.Add(oc);\n",
    "\n",
    "\n",
    "await Task.Delay (30000);\n",
    "controlList.Add(\"STOP\");\n",
    "\n",
    "\n",
    "}"
   ]
  },
  {
   "cell_type": "code",
   "execution_count": null,
   "metadata": {
    "dotnet_interactive": {
     "language": "csharp"
    },
    "vscode": {
     "languageId": "dotnet-interactive.csharp"
    }
   },
   "outputs": [
    {
     "data": {
      "text/plain": [
       "9"
      ]
     },
     "metadata": {},
     "output_type": "display_data"
    }
   ],
   "source": [
    "using System.Reactive;\n",
    "using System.Reactive.Linq;\n",
    "using System.Reactive.Concurrency;\n",
    "\n",
    "var output = display(\"Counting...\");\n",
    "\n",
    "var sub = Observable\n",
    "    .Interval(TimeSpan.FromSeconds(.5), CurrentThreadScheduler.Instance)    \n",
    "    .Take(10) \n",
    "    .Subscribe(i => output.Update(i));"
   ]
  },
  {
   "cell_type": "code",
   "execution_count": null,
   "metadata": {
    "dotnet_interactive": {
     "language": "csharp"
    },
    "vscode": {
     "languageId": "dotnet-interactive.csharp"
    }
   },
   "outputs": [],
   "source": [
    "var fruitOutput = display(\"Let's get some fruit!\");\n",
    "var basket = new [] {\"apple\", \"orange\", \"coconut\", \"pear\", \"peach\"};\n",
    "\n",
    "foreach (var fruit in basket)\n",
    "{\n",
    "    System.Threading.Thread.Sleep(1000);\n",
    "    fruitOutput.Update($\"I have 1 {fruit}.\");    \n",
    "}\n",
    "\n",
    "System.Threading.Thread.Sleep(1000);\n",
    "\n",
    "fruitOutput.Update(basket);"
   ]
  },
  {
   "cell_type": "code",
   "execution_count": null,
   "metadata": {
    "dotnet_interactive": {
     "language": "csharp"
    },
    "vscode": {
     "languageId": "dotnet-interactive.csharp"
    }
   },
   "outputs": [
    {
     "data": {
      "text/plain": [
       "tn"
      ]
     },
     "metadata": {},
     "output_type": "display_data"
    },
    {
     "data": {
      "text/plain": [
       "nothing detected"
      ]
     },
     "metadata": {},
     "output_type": "display_data"
    },
    {
     "data": {
      "text/plain": [
       "lights-off-2"
      ]
     },
     "metadata": {},
     "output_type": "display_data"
    },
    {
     "data": {
      "text/plain": [
       "System.Collections.Generic.List`1[System.String]"
      ]
     },
     "metadata": {},
     "output_type": "display_data"
    },
    {
     "data": {
      "text/html": [
       "<table><thead><tr><th>Value</th><th>Interval</th></tr></thead><tbody><tr><td><div class=\"dni-plaintext\">{ 0@18/08/2022 20:52:08 +00:00: Value: 0, Timestamp: 2022-08-18 20:52:08Z }</div></td><td><div class=\"dni-plaintext\">00:00:06.0371489</div></td></tr></tbody></table>"
      ]
     },
     "metadata": {},
     "output_type": "display_data"
    },
    {
     "data": {
      "text/html": [
       "<table><thead><tr><th>Value</th><th>Interval</th></tr></thead><tbody><tr><td><div class=\"dni-plaintext\">{ 1@18/08/2022 20:52:14 +00:00: Value: 1, Timestamp: 2022-08-18 20:52:14Z }</div></td><td><div class=\"dni-plaintext\">00:00:05.9982620</div></td></tr></tbody></table>"
      ]
     },
     "metadata": {},
     "output_type": "display_data"
    },
    {
     "data": {
      "text/html": [
       "<table><thead><tr><th>TargetSite</th><th>Message</th><th>Data</th><th>InnerException</th><th>HelpLink</th><th>Source</th><th>HResult</th><th>StackTrace</th></tr></thead><tbody><tr><td><div class=\"dni-plaintext\">&lt;null&gt;</div></td><td><div class=\"dni-plaintext\">The operation has timed out.</div></td><td><div class=\"dni-plaintext\">[  ]</div></td><td><div class=\"dni-plaintext\">&lt;null&gt;</div></td><td><div class=\"dni-plaintext\">&lt;null&gt;</div></td><td><div class=\"dni-plaintext\">&lt;null&gt;</div></td><td><div class=\"dni-plaintext\">-2146233083</div></td><td><div class=\"dni-plaintext\">&lt;null&gt;</div></td></tr></tbody></table>"
      ]
     },
     "metadata": {},
     "output_type": "display_data"
    },
    {
     "ename": "Error",
     "evalue": "System.OperationCanceledException: Command :SubmitCode: using System.Reactive;\r\nusing System.Reactive.Conc ... cancelled.",
     "output_type": "error",
     "traceback": [
      "System.OperationCanceledException: Command :SubmitCode: using System.Reactive;\r\n",
      "using System.Reactive.Conc ... cancelled."
     ]
    }
   ],
   "source": [
    "using System.Reactive;\n",
    "using System.Reactive.Concurrency;\n",
    "using System.Reactive.Disposables;\n",
    "using System.Reactive.Joins;\n",
    "using System.Reactive.Linq;\n",
    "using System.Reactive.PlatformServices;\n",
    "using System.Reactive.Subjects;\n",
    "using System.Reactive.Threading.Tasks;\n",
    "using System.Threading;\n",
    "using System.Threading.Tasks;\n",
    "\n",
    "// display output\n",
    "var outputState = display(\"idle.\");\n",
    "var outputSensor = display(\"nothing detected\");\n",
    "var outputLight = display(\"lights-off\");\n",
    "var log = new List<string>();\n",
    "var outputLog = display(log.ToString());\n",
    "\n",
    "// hass-net-2\n",
    "// timer\n",
    "var delay = TimeSpan.FromSeconds(10);\n",
    "long lightsOn = 0;\n",
    "\n",
    "var controlList = new List<string>();\n",
    "var controlChannel = controlList.ToObservable();\n",
    "\n",
    "// sensor\n",
    "var interval = TimeSpan.FromSeconds(6);\n",
    "var timeoutMotionLight = TimeSpan.FromSeconds(10);\n",
    "var schedular = CurrentThreadScheduler.Instance;\n",
    "\n",
    "var observableSensorInterval = Observable.Interval(interval, schedular).TakeUntil(DateTimeOffset.Now.AddSeconds(13));\n",
    "var observableSensor1 = observableSensorInterval.Publish();\n",
    "var motionDetected = observableSensor1\n",
    "\t.Timeout(timeoutMotionLight)\n",
    "\t.Catch<long, TimeoutException>(tx => {\n",
    "\t\t// handle timeout\n",
    "\t\toutputLight.Update(\"lights-off-1\");\n",
    "\n",
    "\t\t// swallow exception\n",
    "\t\treturn Observable.Return((long)-1);\n",
    "\t})\n",
    "\t.Timestamp()\n",
    "\t.TimeInterval()\n",
    "\t.Repeat()\n",
    "\t.Subscribe(onNext: s => {\n",
    "\t\tlog.Add(\"e: \" + s.Display());\n",
    "\t\t// received Motion detected event => turn lights on\n",
    "\t\tlightsOn =+ 1;\n",
    "\t\toutputLight.Update(\"lights-ON\" + lightsOn);\n",
    "\t\t\n",
    "});\n",
    "\n",
    "var motionTimeout = observableSensor1\n",
    "\t.Timeout(timeoutMotionLight)\n",
    "\t// .Catch<long, TimeoutException>(tx => {\n",
    "\t// \t// handle timeout\n",
    "\t// \toutputLight.Update(\"lights-off\");\n",
    "\n",
    "\t// \t// swallow exception\n",
    "\t// \treturn Observable.Return((long)-1);\n",
    "\t// })\n",
    "\t.Timestamp()\n",
    "\t.TimeInterval()\n",
    "\t.Repeat()\n",
    "\t.Subscribe(onNext: _ =>  outputState.Update(\"tn\"),\n",
    "\t\tonError: e => {\n",
    "\t\tlog.Add(\"e: \" + e.Display());\n",
    "\t\t// received Motion detected event => turn lights on\n",
    "\t\t\n",
    "\t\toutputLight.Update(\"lights-off-2\");\n",
    "\t\t\n",
    "});\n",
    "\t\n",
    "observableSensor1.Connect();\t\n",
    "\n",
    "await Task.Delay (30000);\n",
    "controlList.Add(\"STOP\");\n",
    "\n",
    "\n"
   ]
  },
  {
   "cell_type": "code",
   "execution_count": null,
   "metadata": {
    "dotnet_interactive": {
     "language": "csharp"
    },
    "vscode": {
     "languageId": "dotnet-interactive.csharp"
    }
   },
   "outputs": [],
   "source": [
    "#!share --from csharp output\n"
   ]
  },
  {
   "cell_type": "code",
   "execution_count": null,
   "metadata": {
    "dotnet_interactive": {
     "language": "csharp"
    },
    "vscode": {
     "languageId": "dotnet-interactive.csharp"
    }
   },
   "outputs": [],
   "source": [
    "#!share --from csharp output\n"
   ]
  },
  {
   "cell_type": "code",
   "execution_count": null,
   "metadata": {
    "dotnet_interactive": {
     "language": "csharp"
    },
    "vscode": {
     "languageId": "dotnet-interactive.csharp"
    }
   },
   "outputs": [],
   "source": [
    "#!share --from javascript webview\n"
   ]
  }
 ],
 "metadata": {
  "kernelspec": {
   "display_name": ".NET (C#)",
   "language": "C#",
   "name": ".net-csharp"
  },
  "language_info": {
   "name": "C#"
  }
 },
 "nbformat": 4,
 "nbformat_minor": 2
}
